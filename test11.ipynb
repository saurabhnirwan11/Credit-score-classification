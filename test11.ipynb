{
 "cells": [
  {
   "cell_type": "code",
   "execution_count": null,
   "metadata": {},
   "outputs": [],
   "source": [
    "import pickle\n",
    "from flask import Flask, request, app,jsonify,url_for,render_template\n",
    "import numpy as np\n",
    "import pandas as pd\n",
    "from custom_encoder import GetDummies\n"
   ]
  },
  {
   "cell_type": "code",
   "execution_count": null,
   "metadata": {},
   "outputs": [],
   "source": [
    "## Load the model\n",
    "grid_model_rfc = pickle.load(open(\"models/grid_model_rfc.pkl\",\"rb\"))\n",
    "sc = pickle.load(open(\"models/credit_score_multi_class_sc.pkl\",\"rb\"))\n",
    "ohe = pickle.load(open(\"models/credit_score_multi_class_ohe_encoder.pkl\",\"rb\"))\n",
    "le = pickle.load(open(\"models/credit_score_multi_class_le.pkl\",\"rb\"))"
   ]
  },
  {
   "cell_type": "code",
   "execution_count": null,
   "metadata": {},
   "outputs": [],
   "source": [
    "dummy = pickle.load(open(\"models/credit_score_multi_class_get_dummy.pkl\", \"rb\"))"
   ]
  },
  {
   "cell_type": "code",
   "execution_count": null,
   "metadata": {},
   "outputs": [],
   "source": [
    "df = pd.read_csv(\"Data/cleaned_test.csv\")\n",
    "for i in df.columns:\n",
    "    if i in [\"Customer_ID\", \"Month\"]:\n",
    "        df.drop(columns=[i], inplace=True)"
   ]
  },
  {
   "cell_type": "code",
   "execution_count": null,
   "metadata": {},
   "outputs": [],
   "source": [
    "X_test = df.copy()"
   ]
  },
  {
   "cell_type": "code",
   "execution_count": null,
   "metadata": {},
   "outputs": [],
   "source": [
    "X_test_dummy = dummy.transform(X_test)\n",
    "X_test_dummy = X_test_dummy.reset_index(drop=True)"
   ]
  },
  {
   "cell_type": "code",
   "execution_count": null,
   "metadata": {},
   "outputs": [],
   "source": [
    "X_test_dummy.info()"
   ]
  },
  {
   "cell_type": "code",
   "execution_count": null,
   "metadata": {},
   "outputs": [],
   "source": [
    "X_test_dummy.columns"
   ]
  },
  {
   "cell_type": "code",
   "execution_count": null,
   "metadata": {},
   "outputs": [],
   "source": [
    "X_test.columns"
   ]
  },
  {
   "cell_type": "code",
   "execution_count": null,
   "metadata": {},
   "outputs": [],
   "source": [
    "cat = X_test_dummy.select_dtypes(include=\"object\").columns.tolist()\n",
    "\n",
    "X_test_cat = pd.DataFrame(\n",
    "    ohe.transform(X_test[cat]), columns=ohe.get_feature_names_out()\n",
    ")\n",
    "X_test_ohe = X_test_cat.join(X_test_dummy.select_dtypes(\"number\"))"
   ]
  },
  {
   "cell_type": "code",
   "execution_count": null,
   "metadata": {},
   "outputs": [],
   "source": [
    "X_test_scaled = sc.transform(X_test_ohe)"
   ]
  },
  {
   "cell_type": "code",
   "execution_count": null,
   "metadata": {},
   "outputs": [],
   "source": [
    "y_pred = grid_model_rfc.predict(X_test_scaled)"
   ]
  },
  {
   "cell_type": "code",
   "execution_count": null,
   "metadata": {},
   "outputs": [],
   "source": [
    "y_pred = le.inverse_transform(y_pred)"
   ]
  },
  {
   "cell_type": "code",
   "execution_count": null,
   "metadata": {},
   "outputs": [],
   "source": [
    "df.shape"
   ]
  },
  {
   "cell_type": "code",
   "execution_count": null,
   "metadata": {},
   "outputs": [],
   "source": [
    "y_pred = pd.DataFrame(y_pred)\n",
    "y_pred.columns = [\"Prediction_Credit_Score\"]"
   ]
  },
  {
   "cell_type": "code",
   "execution_count": null,
   "metadata": {},
   "outputs": [],
   "source": [
    "y_pred"
   ]
  },
  {
   "cell_type": "code",
   "execution_count": null,
   "metadata": {},
   "outputs": [],
   "source": [
    "test_df = pd.read_csv(\"Data/cleaned_test.csv\")"
   ]
  },
  {
   "cell_type": "code",
   "execution_count": null,
   "metadata": {},
   "outputs": [],
   "source": [
    "temp = pd.concat([df,y_pred],axis=1)"
   ]
  },
  {
   "cell_type": "code",
   "execution_count": null,
   "metadata": {},
   "outputs": [],
   "source": [
    "temp.columns"
   ]
  },
  {
   "cell_type": "code",
   "execution_count": null,
   "metadata": {},
   "outputs": [],
   "source": [
    "temp"
   ]
  },
  {
   "cell_type": "code",
   "execution_count": null,
   "metadata": {},
   "outputs": [],
   "source": [
    "temp = pd.concat([test_df,y_pred],axis=1)"
   ]
  },
  {
   "cell_type": "code",
   "execution_count": null,
   "metadata": {},
   "outputs": [],
   "source": [
    "temp[\"Prediction_Credit_Score\"].value_counts()"
   ]
  },
  {
   "cell_type": "code",
   "execution_count": null,
   "metadata": {},
   "outputs": [],
   "source": [
    "pd.read_csv(\"Result/prediction_on_test_data.csv\")"
   ]
  },
  {
   "cell_type": "markdown",
   "metadata": {},
   "source": [
    "# On single data"
   ]
  },
  {
   "cell_type": "code",
   "execution_count": null,
   "metadata": {},
   "outputs": [],
   "source": [
    "df = pd.read_csv(\"Data/cleaned_test.csv\")\n",
    "for i in df.columns:\n",
    "    if i in [\"Customer_ID\", \"Month\"]:\n",
    "        df.drop(columns=[i], inplace=True)\n",
    "df = df.iloc[0:1,]"
   ]
  },
  {
   "cell_type": "code",
   "execution_count": null,
   "metadata": {},
   "outputs": [],
   "source": [
    "pd.set_option('display.max_columns', None)\n"
   ]
  },
  {
   "cell_type": "code",
   "execution_count": null,
   "metadata": {},
   "outputs": [],
   "source": [
    "df"
   ]
  },
  {
   "cell_type": "code",
   "execution_count": null,
   "metadata": {},
   "outputs": [],
   "source": [
    "df[\"Type_of_Loan\"].values"
   ]
  },
  {
   "cell_type": "code",
   "execution_count": null,
   "metadata": {},
   "outputs": [],
   "source": [
    "df.info()"
   ]
  },
  {
   "cell_type": "code",
   "execution_count": null,
   "metadata": {},
   "outputs": [],
   "source": [
    "df.columns"
   ]
  },
  {
   "cell_type": "code",
   "execution_count": null,
   "metadata": {},
   "outputs": [],
   "source": [
    "## Load the model\n",
    "grid_model_rfc = pickle.load(open(\"models/grid_model_rfc.pkl\", \"rb\"))\n",
    "sc = pickle.load(open(\"models/credit_score_multi_class_sc.pkl\", \"rb\"))\n",
    "ohe = pickle.load(open(\"models/credit_score_multi_class_ohe_encoder.pkl\", \"rb\"))\n",
    "le = pickle.load(open(\"models/credit_score_multi_class_le.pkl\", \"rb\"))\n",
    "dummy = pickle.load(open(\"models/credit_score_multi_class_get_dummy.pkl\", \"rb\"))"
   ]
  },
  {
   "cell_type": "code",
   "execution_count": null,
   "metadata": {},
   "outputs": [],
   "source": [
    "temp"
   ]
  },
  {
   "cell_type": "code",
   "execution_count": null,
   "metadata": {},
   "outputs": [],
   "source": [
    "# X_test = df.copy()\n",
    "X_test = temp\n",
    "X_test_dummy = dummy.transform(X_test)\n",
    "X_test_dummy = X_test_dummy.reset_index(drop=True)\n",
    "cat = X_test_dummy.select_dtypes(include=\"object\").columns.tolist()\n",
    "\n",
    "X_test_cat = pd.DataFrame(\n",
    "    ohe.transform(X_test[cat]), columns=ohe.get_feature_names_out()\n",
    ")\n",
    "X_test_ohe = X_test_cat.join(X_test_dummy.select_dtypes(\"number\"))\n",
    "\n",
    "X_test_scaled = sc.transform(X_test_ohe)\n",
    "\n",
    "y_pred = grid_model_rfc.predict(X_test_scaled)\n",
    "\n",
    "y_pred = le.inverse_transform(y_pred)"
   ]
  },
  {
   "cell_type": "code",
   "execution_count": null,
   "metadata": {},
   "outputs": [],
   "source": [
    "y_pred[0]"
   ]
  },
  {
   "cell_type": "code",
   "execution_count": null,
   "metadata": {},
   "outputs": [],
   "source": [
    "temp = pd.read_csv(\"Data/train.csv\").iloc[0:1,]"
   ]
  },
  {
   "cell_type": "code",
   "execution_count": null,
   "metadata": {},
   "outputs": [],
   "source": [
    "temp = temp.drop(columns=[\"ID\",\"Customer_ID\", \"Month\", \"SSN\", \"Name\", \"Credit_Score\"])\n",
    "temp"
   ]
  },
  {
   "cell_type": "code",
   "execution_count": null,
   "metadata": {},
   "outputs": [],
   "source": [
    "temp.info()"
   ]
  },
  {
   "cell_type": "markdown",
   "metadata": {},
   "source": [
    "# Html Form"
   ]
  },
  {
   "cell_type": "code",
   "execution_count": 1,
   "metadata": {},
   "outputs": [],
   "source": [
    "import pickle\n",
    "from flask import Flask, request, app,jsonify,url_for,render_template\n",
    "import numpy as np\n",
    "import pandas as pd\n",
    "from custom_encoder import GetDummies"
   ]
  },
  {
   "cell_type": "code",
   "execution_count": 2,
   "metadata": {},
   "outputs": [],
   "source": [
    "## Load the model\n",
    "grid_model_rfc = pickle.load(open(\"models/grid_model_rfc.pkl\", \"rb\"))\n",
    "sc = pickle.load(open(\"models/credit_score_multi_class_sc.pkl\", \"rb\"))\n",
    "ohe = pickle.load(open(\"models/credit_score_multi_class_ohe_encoder.pkl\", \"rb\"))\n",
    "le = pickle.load(open(\"models/credit_score_multi_class_le.pkl\", \"rb\"))\n",
    "dummy = pickle.load(open(\"models/credit_score_multi_class_get_dummy.pkl\", \"rb\"))"
   ]
  },
  {
   "cell_type": "code",
   "execution_count": 3,
   "metadata": {},
   "outputs": [],
   "source": [
    "form = {'Age': '23', 'Occupation': 'Teacher', 'Annual_Income': '19114.12', 'Monthly_Inhand_Salary': '1824.843333', 'Num_Bank_Accounts': '3', 'Num_Credit_Card': '4', 'Interest_Rate': '3', 'Num_of_Loan': '4', 'Type_of_Loan': 'Auto Loan,Personal Loan', 'Delay_from_due_date': '3', 'Num_of_Delayed_Payment': '7', 'Changed_Credit_Limit': '11.27', 'Num_Credit_Inquiries': '4.0', 'Credit_Mix': 'Good', 'Outstanding_Debt': '809.98', 'Credit_Utilization_Ratio': '35.030402', 'Credit_History_Age': '273', 'Payment_of_Min_Amount': 'No', 'Total_EMI_per_month': '49.574949', 'Amount_invested_monthly': '236.642682', 'Payment_Behaviour': 'Low_spent_Small_value_payments', 'Monthly_Balance': '186.266702'}"
   ]
  },
  {
   "cell_type": "code",
   "execution_count": 4,
   "metadata": {},
   "outputs": [],
   "source": [
    "temp_df = pd.DataFrame(pd.Series(form)).transpose()"
   ]
  },
  {
   "cell_type": "code",
   "execution_count": 5,
   "metadata": {},
   "outputs": [
    {
     "data": {
      "text/html": [
       "<div>\n",
       "<style scoped>\n",
       "    .dataframe tbody tr th:only-of-type {\n",
       "        vertical-align: middle;\n",
       "    }\n",
       "\n",
       "    .dataframe tbody tr th {\n",
       "        vertical-align: top;\n",
       "    }\n",
       "\n",
       "    .dataframe thead th {\n",
       "        text-align: right;\n",
       "    }\n",
       "</style>\n",
       "<table border=\"1\" class=\"dataframe\">\n",
       "  <thead>\n",
       "    <tr style=\"text-align: right;\">\n",
       "      <th></th>\n",
       "      <th>Age</th>\n",
       "      <th>Occupation</th>\n",
       "      <th>Annual_Income</th>\n",
       "      <th>Monthly_Inhand_Salary</th>\n",
       "      <th>Num_Bank_Accounts</th>\n",
       "      <th>Num_Credit_Card</th>\n",
       "      <th>Interest_Rate</th>\n",
       "      <th>Num_of_Loan</th>\n",
       "      <th>Type_of_Loan</th>\n",
       "      <th>Delay_from_due_date</th>\n",
       "      <th>...</th>\n",
       "      <th>Num_Credit_Inquiries</th>\n",
       "      <th>Credit_Mix</th>\n",
       "      <th>Outstanding_Debt</th>\n",
       "      <th>Credit_Utilization_Ratio</th>\n",
       "      <th>Credit_History_Age</th>\n",
       "      <th>Payment_of_Min_Amount</th>\n",
       "      <th>Total_EMI_per_month</th>\n",
       "      <th>Amount_invested_monthly</th>\n",
       "      <th>Payment_Behaviour</th>\n",
       "      <th>Monthly_Balance</th>\n",
       "    </tr>\n",
       "  </thead>\n",
       "  <tbody>\n",
       "    <tr>\n",
       "      <th>0</th>\n",
       "      <td>23</td>\n",
       "      <td>Teacher</td>\n",
       "      <td>19114.12</td>\n",
       "      <td>1824.843333</td>\n",
       "      <td>3</td>\n",
       "      <td>4</td>\n",
       "      <td>3</td>\n",
       "      <td>4</td>\n",
       "      <td>Auto Loan,Personal Loan</td>\n",
       "      <td>3</td>\n",
       "      <td>...</td>\n",
       "      <td>4.0</td>\n",
       "      <td>Good</td>\n",
       "      <td>809.98</td>\n",
       "      <td>35.030402</td>\n",
       "      <td>273</td>\n",
       "      <td>No</td>\n",
       "      <td>49.574949</td>\n",
       "      <td>236.642682</td>\n",
       "      <td>Low_spent_Small_value_payments</td>\n",
       "      <td>186.266702</td>\n",
       "    </tr>\n",
       "  </tbody>\n",
       "</table>\n",
       "<p>1 rows × 22 columns</p>\n",
       "</div>"
      ],
      "text/plain": [
       "  Age Occupation Annual_Income Monthly_Inhand_Salary Num_Bank_Accounts  \\\n",
       "0  23    Teacher      19114.12           1824.843333                 3   \n",
       "\n",
       "  Num_Credit_Card Interest_Rate Num_of_Loan             Type_of_Loan  \\\n",
       "0               4             3           4  Auto Loan,Personal Loan   \n",
       "\n",
       "  Delay_from_due_date  ... Num_Credit_Inquiries Credit_Mix Outstanding_Debt  \\\n",
       "0                   3  ...                  4.0       Good           809.98   \n",
       "\n",
       "  Credit_Utilization_Ratio Credit_History_Age Payment_of_Min_Amount  \\\n",
       "0                35.030402                273                    No   \n",
       "\n",
       "  Total_EMI_per_month Amount_invested_monthly               Payment_Behaviour  \\\n",
       "0           49.574949              236.642682  Low_spent_Small_value_payments   \n",
       "\n",
       "  Monthly_Balance  \n",
       "0      186.266702  \n",
       "\n",
       "[1 rows x 22 columns]"
      ]
     },
     "execution_count": 5,
     "metadata": {},
     "output_type": "execute_result"
    }
   ],
   "source": [
    "temp_df"
   ]
  },
  {
   "cell_type": "code",
   "execution_count": 6,
   "metadata": {},
   "outputs": [],
   "source": [
    "lst1 = [\"Age\", \"Annual_Income\", \"Monthly_Inhand_Salary\", \"Num_of_Loan\",\n",
    "        \"Num_Bank_Accounts\", \"Num_Credit_Card\", \"Interest_Rate\",\n",
    "        \"Delay_from_due_date\", \"Num_of_Delayed_Payment\", \"Num_Credit_Inquiries\",\n",
    "        \"Credit_Utilization_Ratio\", \"Total_EMI_per_month\",\n",
    "        \"Changed_Credit_Limit\", \"Outstanding_Debt\", \"Amount_invested_monthly\",\n",
    "        \"Monthly_Balance\", \"Credit_History_Age\"]\n",
    "for i in lst1:\n",
    "    temp_df[i] = temp_df[i].astype(float)"
   ]
  },
  {
   "cell_type": "code",
   "execution_count": 7,
   "metadata": {},
   "outputs": [
    {
     "name": "stdout",
     "output_type": "stream",
     "text": [
      "<class 'pandas.core.frame.DataFrame'>\n",
      "RangeIndex: 1 entries, 0 to 0\n",
      "Data columns (total 22 columns):\n",
      " #   Column                    Non-Null Count  Dtype  \n",
      "---  ------                    --------------  -----  \n",
      " 0   Age                       1 non-null      float64\n",
      " 1   Occupation                1 non-null      object \n",
      " 2   Annual_Income             1 non-null      float64\n",
      " 3   Monthly_Inhand_Salary     1 non-null      float64\n",
      " 4   Num_Bank_Accounts         1 non-null      float64\n",
      " 5   Num_Credit_Card           1 non-null      float64\n",
      " 6   Interest_Rate             1 non-null      float64\n",
      " 7   Num_of_Loan               1 non-null      float64\n",
      " 8   Type_of_Loan              1 non-null      object \n",
      " 9   Delay_from_due_date       1 non-null      float64\n",
      " 10  Num_of_Delayed_Payment    1 non-null      float64\n",
      " 11  Changed_Credit_Limit      1 non-null      float64\n",
      " 12  Num_Credit_Inquiries      1 non-null      float64\n",
      " 13  Credit_Mix                1 non-null      object \n",
      " 14  Outstanding_Debt          1 non-null      float64\n",
      " 15  Credit_Utilization_Ratio  1 non-null      float64\n",
      " 16  Credit_History_Age        1 non-null      float64\n",
      " 17  Payment_of_Min_Amount     1 non-null      object \n",
      " 18  Total_EMI_per_month       1 non-null      float64\n",
      " 19  Amount_invested_monthly   1 non-null      float64\n",
      " 20  Payment_Behaviour         1 non-null      object \n",
      " 21  Monthly_Balance           1 non-null      float64\n",
      "dtypes: float64(17), object(5)\n",
      "memory usage: 304.0+ bytes\n"
     ]
    }
   ],
   "source": [
    "temp_df.info()"
   ]
  },
  {
   "cell_type": "code",
   "execution_count": 8,
   "metadata": {},
   "outputs": [],
   "source": [
    "X_test = temp_df.copy()\n",
    "X_test_dummy = dummy.transform(X_test)\n",
    "X_test_dummy = X_test_dummy.reset_index(drop=True)\n",
    "cat = X_test_dummy.select_dtypes(include=\"object\").columns.tolist()\n",
    "\n",
    "X_test_cat = pd.DataFrame(\n",
    "    ohe.transform(X_test[cat]), columns=ohe.get_feature_names_out()\n",
    ")\n",
    "X_test_ohe = X_test_cat.join(X_test_dummy.select_dtypes(\"number\"))\n",
    "\n",
    "X_test_scaled = sc.transform(X_test_ohe)\n",
    "\n",
    "y_pred = grid_model_rfc.predict(X_test_scaled)\n",
    "\n",
    "y_pred = le.inverse_transform(y_pred)"
   ]
  },
  {
   "cell_type": "code",
   "execution_count": 9,
   "metadata": {},
   "outputs": [
    {
     "data": {
      "text/plain": [
       "array(['Good'], dtype=object)"
      ]
     },
     "execution_count": 9,
     "metadata": {},
     "output_type": "execute_result"
    }
   ],
   "source": [
    "y_pred"
   ]
  },
  {
   "cell_type": "code",
   "execution_count": 11,
   "metadata": {},
   "outputs": [],
   "source": [
    "cleaned = pd.read_csv(\"Data/cleaned_train.csv\")\n",
    "cleaned.drop(columns=[\"Customer_ID\", \"Month\"], inplace=True)\n"
   ]
  },
  {
   "cell_type": "code",
   "execution_count": 12,
   "metadata": {},
   "outputs": [
    {
     "name": "stdout",
     "output_type": "stream",
     "text": [
      "<class 'pandas.core.frame.DataFrame'>\n",
      "RangeIndex: 100000 entries, 0 to 99999\n",
      "Data columns (total 22 columns):\n",
      " #   Column                    Non-Null Count   Dtype  \n",
      "---  ------                    --------------   -----  \n",
      " 0   Age                       100000 non-null  float64\n",
      " 1   Occupation                100000 non-null  object \n",
      " 2   Annual_Income             100000 non-null  float64\n",
      " 3   Monthly_Inhand_Salary     100000 non-null  float64\n",
      " 4   Num_Bank_Accounts         100000 non-null  float64\n",
      " 5   Num_Credit_Card           100000 non-null  float64\n",
      " 6   Interest_Rate             100000 non-null  float64\n",
      " 7   Num_of_Loan               100000 non-null  float64\n",
      " 8   Type_of_Loan              100000 non-null  object \n",
      " 9   Delay_from_due_date       100000 non-null  float64\n",
      " 10  Num_of_Delayed_Payment    100000 non-null  float64\n",
      " 11  Changed_Credit_Limit      100000 non-null  float64\n",
      " 12  Num_Credit_Inquiries      100000 non-null  float64\n",
      " 13  Credit_Mix                100000 non-null  object \n",
      " 14  Outstanding_Debt          100000 non-null  float64\n",
      " 15  Credit_Utilization_Ratio  100000 non-null  float64\n",
      " 16  Credit_History_Age        100000 non-null  float64\n",
      " 17  Payment_of_Min_Amount     100000 non-null  object \n",
      " 18  Total_EMI_per_month       100000 non-null  float64\n",
      " 19  Amount_invested_monthly   100000 non-null  float64\n",
      " 20  Payment_Behaviour         100000 non-null  object \n",
      " 21  Monthly_Balance           100000 non-null  float64\n",
      "dtypes: float64(17), object(5)\n",
      "memory usage: 16.8+ MB\n"
     ]
    }
   ],
   "source": [
    "cleaned.drop(columns=[\"Credit_Score\"], inplace=True)\n",
    "cleaned.info()"
   ]
  },
  {
   "cell_type": "code",
   "execution_count": null,
   "metadata": {},
   "outputs": [],
   "source": []
  },
  {
   "cell_type": "code",
   "execution_count": null,
   "metadata": {},
   "outputs": [],
   "source": [
    "lst1 = [\"Age\", \"Annual_Income\", \"Monthly_Inhand_Salary\", \"Num_of_Loan\",\n",
    "        \"Num_Bank_Accounts\", \"Num_Credit_Card\", \"Interest_Rate\",\n",
    "        \"Delay_from_due_date\", \"Num_of_Delayed_Payment\", \"Num_Credit_Inquiries\",\n",
    "        \"Credit_Utilization_Ratio\", \"Total_EMI_per_month\",\n",
    "        \"Changed_Credit_Limit\", \"Outstanding_Debt\", \"Amount_invested_monthly\",\n",
    "        \"Monthly_Balance\", \"Credit_History_Age\"]"
   ]
  },
  {
   "cell_type": "code",
   "execution_count": 19,
   "metadata": {},
   "outputs": [],
   "source": [
    "pd.set_option('display.max_columns', None)\n"
   ]
  },
  {
   "cell_type": "code",
   "execution_count": 20,
   "metadata": {},
   "outputs": [
    {
     "data": {
      "text/html": [
       "<div>\n",
       "<style scoped>\n",
       "    .dataframe tbody tr th:only-of-type {\n",
       "        vertical-align: middle;\n",
       "    }\n",
       "\n",
       "    .dataframe tbody tr th {\n",
       "        vertical-align: top;\n",
       "    }\n",
       "\n",
       "    .dataframe thead th {\n",
       "        text-align: right;\n",
       "    }\n",
       "</style>\n",
       "<table border=\"1\" class=\"dataframe\">\n",
       "  <thead>\n",
       "    <tr style=\"text-align: right;\">\n",
       "      <th></th>\n",
       "      <th>Age</th>\n",
       "      <th>Occupation</th>\n",
       "      <th>Annual_Income</th>\n",
       "      <th>Monthly_Inhand_Salary</th>\n",
       "      <th>Num_Bank_Accounts</th>\n",
       "      <th>Num_Credit_Card</th>\n",
       "      <th>Interest_Rate</th>\n",
       "      <th>Num_of_Loan</th>\n",
       "      <th>Type_of_Loan</th>\n",
       "      <th>Delay_from_due_date</th>\n",
       "      <th>Num_of_Delayed_Payment</th>\n",
       "      <th>Changed_Credit_Limit</th>\n",
       "      <th>Num_Credit_Inquiries</th>\n",
       "      <th>Credit_Mix</th>\n",
       "      <th>Outstanding_Debt</th>\n",
       "      <th>Credit_Utilization_Ratio</th>\n",
       "      <th>Credit_History_Age</th>\n",
       "      <th>Payment_of_Min_Amount</th>\n",
       "      <th>Total_EMI_per_month</th>\n",
       "      <th>Amount_invested_monthly</th>\n",
       "      <th>Payment_Behaviour</th>\n",
       "      <th>Monthly_Balance</th>\n",
       "    </tr>\n",
       "  </thead>\n",
       "  <tbody>\n",
       "    <tr>\n",
       "      <th>0</th>\n",
       "      <td>23.0</td>\n",
       "      <td>Scientist</td>\n",
       "      <td>19114.12</td>\n",
       "      <td>1824.843333</td>\n",
       "      <td>3.0</td>\n",
       "      <td>4.0</td>\n",
       "      <td>3.0</td>\n",
       "      <td>4.0</td>\n",
       "      <td>auto loan,credit-builder loan,personal loan,ho...</td>\n",
       "      <td>3.0</td>\n",
       "      <td>7.0</td>\n",
       "      <td>11.27</td>\n",
       "      <td>4.0</td>\n",
       "      <td>Good</td>\n",
       "      <td>809.98</td>\n",
       "      <td>26.82262</td>\n",
       "      <td>265.0</td>\n",
       "      <td>No</td>\n",
       "      <td>49.574949</td>\n",
       "      <td>24.785217</td>\n",
       "      <td>High_spent_Small_value_payments</td>\n",
       "      <td>312.494089</td>\n",
       "    </tr>\n",
       "  </tbody>\n",
       "</table>\n",
       "</div>"
      ],
      "text/plain": [
       "    Age Occupation  Annual_Income  Monthly_Inhand_Salary  Num_Bank_Accounts  \\\n",
       "0  23.0  Scientist       19114.12            1824.843333                3.0   \n",
       "\n",
       "   Num_Credit_Card  Interest_Rate  Num_of_Loan  \\\n",
       "0              4.0            3.0          4.0   \n",
       "\n",
       "                                        Type_of_Loan  Delay_from_due_date  \\\n",
       "0  auto loan,credit-builder loan,personal loan,ho...                  3.0   \n",
       "\n",
       "   Num_of_Delayed_Payment  Changed_Credit_Limit  Num_Credit_Inquiries  \\\n",
       "0                     7.0                 11.27                   4.0   \n",
       "\n",
       "  Credit_Mix  Outstanding_Debt  Credit_Utilization_Ratio  Credit_History_Age  \\\n",
       "0       Good            809.98                  26.82262               265.0   \n",
       "\n",
       "  Payment_of_Min_Amount  Total_EMI_per_month  Amount_invested_monthly  \\\n",
       "0                    No            49.574949                24.785217   \n",
       "\n",
       "                 Payment_Behaviour  Monthly_Balance  \n",
       "0  High_spent_Small_value_payments       312.494089  "
      ]
     },
     "execution_count": 20,
     "metadata": {},
     "output_type": "execute_result"
    }
   ],
   "source": [
    "cleaned.iloc[0:1,]"
   ]
  },
  {
   "cell_type": "code",
   "execution_count": 23,
   "metadata": {},
   "outputs": [
    {
     "data": {
      "text/html": [
       "<div>\n",
       "<style scoped>\n",
       "    .dataframe tbody tr th:only-of-type {\n",
       "        vertical-align: middle;\n",
       "    }\n",
       "\n",
       "    .dataframe tbody tr th {\n",
       "        vertical-align: top;\n",
       "    }\n",
       "\n",
       "    .dataframe thead th {\n",
       "        text-align: right;\n",
       "    }\n",
       "</style>\n",
       "<table border=\"1\" class=\"dataframe\">\n",
       "  <thead>\n",
       "    <tr style=\"text-align: right;\">\n",
       "      <th></th>\n",
       "      <th>Customer_ID</th>\n",
       "      <th>Month</th>\n",
       "      <th>Age</th>\n",
       "      <th>Occupation</th>\n",
       "      <th>Annual_Income</th>\n",
       "      <th>Monthly_Inhand_Salary</th>\n",
       "      <th>Num_Bank_Accounts</th>\n",
       "      <th>Num_Credit_Card</th>\n",
       "      <th>Interest_Rate</th>\n",
       "      <th>Num_of_Loan</th>\n",
       "      <th>Type_of_Loan</th>\n",
       "      <th>Delay_from_due_date</th>\n",
       "      <th>Num_of_Delayed_Payment</th>\n",
       "      <th>Changed_Credit_Limit</th>\n",
       "      <th>Num_Credit_Inquiries</th>\n",
       "      <th>Credit_Mix</th>\n",
       "      <th>Outstanding_Debt</th>\n",
       "      <th>Credit_Utilization_Ratio</th>\n",
       "      <th>Credit_History_Age</th>\n",
       "      <th>Payment_of_Min_Amount</th>\n",
       "      <th>Total_EMI_per_month</th>\n",
       "      <th>Amount_invested_monthly</th>\n",
       "      <th>Payment_Behaviour</th>\n",
       "      <th>Monthly_Balance</th>\n",
       "      <th>Credit_Score</th>\n",
       "    </tr>\n",
       "  </thead>\n",
       "  <tbody>\n",
       "    <tr>\n",
       "      <th>0</th>\n",
       "      <td>3392</td>\n",
       "      <td>1</td>\n",
       "      <td>23.0</td>\n",
       "      <td>Scientist</td>\n",
       "      <td>19114.12</td>\n",
       "      <td>1824.843333</td>\n",
       "      <td>3.0</td>\n",
       "      <td>4.0</td>\n",
       "      <td>3.0</td>\n",
       "      <td>4.0</td>\n",
       "      <td>auto loan,credit-builder loan,personal loan,ho...</td>\n",
       "      <td>3.0</td>\n",
       "      <td>7.0</td>\n",
       "      <td>11.27</td>\n",
       "      <td>4.0</td>\n",
       "      <td>Good</td>\n",
       "      <td>809.98</td>\n",
       "      <td>26.82262</td>\n",
       "      <td>265.0</td>\n",
       "      <td>No</td>\n",
       "      <td>49.574949</td>\n",
       "      <td>24.785217</td>\n",
       "      <td>High_spent_Small_value_payments</td>\n",
       "      <td>312.494089</td>\n",
       "      <td>Good</td>\n",
       "    </tr>\n",
       "  </tbody>\n",
       "</table>\n",
       "</div>"
      ],
      "text/plain": [
       "   Customer_ID  Month   Age Occupation  Annual_Income  Monthly_Inhand_Salary  \\\n",
       "0         3392      1  23.0  Scientist       19114.12            1824.843333   \n",
       "\n",
       "   Num_Bank_Accounts  Num_Credit_Card  Interest_Rate  Num_of_Loan  \\\n",
       "0                3.0              4.0            3.0          4.0   \n",
       "\n",
       "                                        Type_of_Loan  Delay_from_due_date  \\\n",
       "0  auto loan,credit-builder loan,personal loan,ho...                  3.0   \n",
       "\n",
       "   Num_of_Delayed_Payment  Changed_Credit_Limit  Num_Credit_Inquiries  \\\n",
       "0                     7.0                 11.27                   4.0   \n",
       "\n",
       "  Credit_Mix  Outstanding_Debt  Credit_Utilization_Ratio  Credit_History_Age  \\\n",
       "0       Good            809.98                  26.82262               265.0   \n",
       "\n",
       "  Payment_of_Min_Amount  Total_EMI_per_month  Amount_invested_monthly  \\\n",
       "0                    No            49.574949                24.785217   \n",
       "\n",
       "                 Payment_Behaviour  Monthly_Balance Credit_Score  \n",
       "0  High_spent_Small_value_payments       312.494089         Good  "
      ]
     },
     "execution_count": 23,
     "metadata": {},
     "output_type": "execute_result"
    }
   ],
   "source": [
    "cleaned1 = pd.read_csv(\"Data/cleaned_train.csv\")\n",
    "cleaned1.iloc[0:1,]"
   ]
  },
  {
   "cell_type": "code",
   "execution_count": 21,
   "metadata": {},
   "outputs": [
    {
     "data": {
      "text/plain": [
       "array(['auto loan,credit-builder loan,personal loan,home equity loan'],\n",
       "      dtype=object)"
      ]
     },
     "execution_count": 21,
     "metadata": {},
     "output_type": "execute_result"
    }
   ],
   "source": [
    "cleaned.iloc[0:1,][\"Type_of_Loan\"].values"
   ]
  },
  {
   "cell_type": "code",
   "execution_count": null,
   "metadata": {},
   "outputs": [],
   "source": []
  }
 ],
 "metadata": {
  "kernelspec": {
   "display_name": ".venv",
   "language": "python",
   "name": "python3"
  },
  "language_info": {
   "codemirror_mode": {
    "name": "ipython",
    "version": 3
   },
   "file_extension": ".py",
   "mimetype": "text/x-python",
   "name": "python",
   "nbconvert_exporter": "python",
   "pygments_lexer": "ipython3",
   "version": "3.10.6"
  },
  "orig_nbformat": 4
 },
 "nbformat": 4,
 "nbformat_minor": 2
}
