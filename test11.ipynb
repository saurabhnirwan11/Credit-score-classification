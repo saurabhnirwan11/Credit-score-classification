{
 "cells": [
  {
   "cell_type": "code",
   "execution_count": 1,
   "metadata": {},
   "outputs": [],
   "source": [
    "import pickle\n",
    "from flask import Flask, request, app,jsonify,url_for,render_template\n",
    "import numpy as np\n",
    "import pandas as pd"
   ]
  },
  {
   "cell_type": "code",
   "execution_count": 4,
   "metadata": {},
   "outputs": [],
   "source": [
    "## Load the model\n",
    "rfc_model = pickle.load(open(\"models/grid_model_rfc.pkl\",\"rb\"))\n",
    "scalar = pickle.load(open(\"models/credit_score_multi_class_sc.pkl\",\"rb\"))\n",
    "ohe = pickle.load(open(\"models/credit_score_multi_class_ohe_encoder.pkl\",\"rb\"))\n",
    "le = pickle.load(open(\"models/credit_score_multi_class_le.pkl\",\"rb\"))"
   ]
  },
  {
   "cell_type": "code",
   "execution_count": 7,
   "metadata": {},
   "outputs": [
    {
     "ename": "AttributeError",
     "evalue": "Can't get attribute 'GetDummies' on <module '__main__'>",
     "output_type": "error",
     "traceback": [
      "\u001b[0;31m---------------------------------------------------------------------------\u001b[0m",
      "\u001b[0;31mAttributeError\u001b[0m                            Traceback (most recent call last)",
      "Cell \u001b[0;32mIn[7], line 1\u001b[0m\n\u001b[0;32m----> 1\u001b[0m pickle\u001b[39m.\u001b[39;49mload(\u001b[39mopen\u001b[39;49m(\u001b[39m\"\u001b[39;49m\u001b[39mmodels/credit_score_multi_class_get_dummy.pkl\u001b[39;49m\u001b[39m\"\u001b[39;49m, \u001b[39m\"\u001b[39;49m\u001b[39mrb\u001b[39;49m\u001b[39m\"\u001b[39;49m))\n",
      "\u001b[0;31mAttributeError\u001b[0m: Can't get attribute 'GetDummies' on <module '__main__'>"
     ]
    }
   ],
   "source": [
    "pickle.load(open(\"models/credit_score_multi_class_get_dummy.pkl\", \"rb\"))"
   ]
  },
  {
   "cell_type": "code",
   "execution_count": null,
   "metadata": {},
   "outputs": [],
   "source": [
    "data=[float(x) for x in request.form.values()]\n",
    "final_input=scalar.transform(np.array(data).reshape(1,-1))\n",
    "print(final_input)\n",
    "output=rfc_model.predict(final_input)[0]\n",
    "return render_template(\"home.html\",prediction_text=\"The House price prediction is {}\".format(output))"
   ]
  }
 ],
 "metadata": {
  "kernelspec": {
   "display_name": ".venv",
   "language": "python",
   "name": "python3"
  },
  "language_info": {
   "codemirror_mode": {
    "name": "ipython",
    "version": 3
   },
   "file_extension": ".py",
   "mimetype": "text/x-python",
   "name": "python",
   "nbconvert_exporter": "python",
   "pygments_lexer": "ipython3",
   "version": "3.10.6"
  },
  "orig_nbformat": 4
 },
 "nbformat": 4,
 "nbformat_minor": 2
}
